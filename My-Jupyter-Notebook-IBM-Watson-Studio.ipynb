{
 "cells": [
  {
   "cell_type": "markdown",
   "id": "0744ecc4",
   "metadata": {},
   "source": [
    "# My Jupyter Notebook on IBM Watson Studio"
   ]
  },
  {
   "cell_type": "markdown",
   "id": "ea798c53",
   "metadata": {},
   "source": [
    "**Sanaullah Imtiaz** <br>  Data Scientist"
   ]
  },
  {
   "cell_type": "markdown",
   "id": "47b33db1",
   "metadata": {},
   "source": [
    "*I want to help humanity and especially my countrymen in the medical field development with available limited resources.*"
   ]
  },
  {
   "cell_type": "markdown",
   "id": "8b35161d",
   "metadata": {},
   "source": [
    "### The Below code will print \"Hello Sunshine\""
   ]
  },
  {
   "cell_type": "code",
   "execution_count": 1,
   "id": "916e176f",
   "metadata": {},
   "outputs": [
    {
     "name": "stdout",
     "output_type": "stream",
     "text": [
      "Hello Sunshine\n"
     ]
    }
   ],
   "source": [
    "print(\"Hello Sunshine\")"
   ]
  },
  {
   "cell_type": "markdown",
   "id": "97fe7f2b",
   "metadata": {},
   "source": [
    "##### In this cell below items will be covered <br>\n",
    "<ol>\n",
    "    <li>Horizontal rule.</li>\n",
    "    <li>Table.</li>\n",
    "    <li>Hyperlink.</li>\n",
    "    <li>Code/syntax highlighting.</li>\n",
    "    <li>Blocked quote.</li>\n",
    "    <li>Bulleted list.</li>\n",
    "<ol><br>\n",
    "\n",
    "##### 1. Horizontal rule\n",
    "------------------------------------------------\n",
    "Above line is 'horizontal rule'\n",
    "\n",
    "##### 2. Table\n",
    "------------------------------------------------\n",
    "    \n",
    "| Column | Column |\n",
    "|--------|--------|\n",
    "| value1 | value2 |\n",
    "| value3 | value4 |\n",
    "\n",
    "##### 3. HyperLink\n",
    "------------------------------------------------\n",
    "[Github Link for this file](https://github.com/sanaullah-imtiaz/Jupyter-Notebook-IBM-Watson-Studio.git)\n",
    "\n",
    "##### 4. Highlight\n",
    "------------------------------------------------\n",
    "`This is highlighted`\n",
    "    \n",
    "##### 5. Blocked quote \n",
    "------------------------------------------------\n",
    "> Time isn't the main thing. It's the only thing - Miles Davis\n",
    "\n",
    "##### 6. Bulleted List\n",
    "------------------------------------------------\n",
    "<ul>\n",
    "    <li>Horizontal rule.</li>\n",
    "    <li>Table.</li>\n",
    "    <li>Hyperlink.</li>\n",
    "    <li>Code/syntax highlighting.</li>\n",
    "    <li>Blocked quote.</li>\n",
    "    <li>Bulleted list.</li>\n",
    "<ul>"
   ]
  }
 ],
 "metadata": {
  "kernelspec": {
   "display_name": "Python 3 (ipykernel)",
   "language": "python",
   "name": "python3"
  },
  "language_info": {
   "codemirror_mode": {
    "name": "ipython",
    "version": 3
   },
   "file_extension": ".py",
   "mimetype": "text/x-python",
   "name": "python",
   "nbconvert_exporter": "python",
   "pygments_lexer": "ipython3",
   "version": "3.11.1"
  }
 },
 "nbformat": 4,
 "nbformat_minor": 5
}
